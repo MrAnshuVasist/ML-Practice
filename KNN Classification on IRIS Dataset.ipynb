{
 "cells": [
  {
   "cell_type": "code",
   "execution_count": 1,
   "id": "a33017a0",
   "metadata": {},
   "outputs": [],
   "source": [
    "from sklearn import datasets\n",
    "from sklearn.neighbors import KNeighborsClassifier\n",
    "from sklearn.metrics import accuracy_score"
   ]
  },
  {
   "cell_type": "code",
   "execution_count": 2,
   "id": "0986b9c0",
   "metadata": {},
   "outputs": [
    {
     "name": "stdout",
     "output_type": "stream",
     "text": [
      "150\n"
     ]
    }
   ],
   "source": [
    "iris = datasets.load_iris()\n",
    "\n",
    "print(len(iris.data[:]))  # Print the length of the data, which is 150"
   ]
  },
  {
   "cell_type": "code",
   "execution_count": 3,
   "id": "73288c45",
   "metadata": {},
   "outputs": [],
   "source": [
    "featuresT = iris.data[:-40]  # Access the features for training data\n",
    "labelsT = iris.target[:-40]  # Access the labels for training data"
   ]
  },
  {
   "cell_type": "code",
   "execution_count": 4,
   "id": "64600e85",
   "metadata": {},
   "outputs": [],
   "source": [
    "testFeature = iris.data[-40:]  # Access the features for test data\n",
    "testLabels = iris.target[-40:]  # Access the labels for test data"
   ]
  },
  {
   "cell_type": "code",
   "execution_count": 5,
   "id": "49c27f26",
   "metadata": {},
   "outputs": [
    {
     "name": "stdout",
     "output_type": "stream",
     "text": [
      "[6.3 3.3 6.  2.5] 2\n"
     ]
    }
   ],
   "source": [
    "print(featuresT[100], labelsT[100])  \n",
    "# Print a specific feature and label for verification"
   ]
  },
  {
   "cell_type": "code",
   "execution_count": 6,
   "id": "1c641ce0",
   "metadata": {},
   "outputs": [],
   "source": [
    "# Train the classifier"
   ]
  },
  {
   "cell_type": "code",
   "execution_count": 7,
   "id": "d42e6746",
   "metadata": {},
   "outputs": [
    {
     "data": {
      "text/plain": [
       "KNeighborsClassifier()"
      ]
     },
     "execution_count": 7,
     "metadata": {},
     "output_type": "execute_result"
    }
   ],
   "source": [
    "clf = KNeighborsClassifier()  \n",
    "# Create a K-Nearest Neighbors classifier object\n",
    "\n",
    "\n",
    "clf.fit(featuresT, labelsT)  \n",
    "# Train the classifier using the training data"
   ]
  },
  {
   "cell_type": "code",
   "execution_count": 8,
   "id": "7c37786f",
   "metadata": {},
   "outputs": [],
   "source": [
    "#print(iris.DESCR)"
   ]
  },
  {
   "cell_type": "code",
   "execution_count": 9,
   "id": "45fa3099",
   "metadata": {},
   "outputs": [
    {
     "name": "stdout",
     "output_type": "stream",
     "text": [
      "[2]\n"
     ]
    }
   ],
   "source": [
    "prediction = clf.predict([[6.3, 3.3, 6., 2.5]])  \n",
    "# Make a prediction on a single example\n",
    "\n",
    "print(prediction)  # Print the predicted label"
   ]
  },
  {
   "cell_type": "code",
   "execution_count": 10,
   "id": "100ab096",
   "metadata": {},
   "outputs": [
    {
     "name": "stdout",
     "output_type": "stream",
     "text": [
      "Accuracy: 0.625\n"
     ]
    }
   ],
   "source": [
    "pred40 = clf.predict(testFeature)  \n",
    "# Make predictions on the test data\n",
    "\n",
    "accuracy = accuracy_score(testLabels, pred40)  \n",
    "# Calculate the accuracy using true labels and predictions\n",
    "\n",
    "print(\"Accuracy:\", accuracy)  # Print the accuracy score"
   ]
  },
  {
   "cell_type": "code",
   "execution_count": null,
   "id": "25e51f96",
   "metadata": {},
   "outputs": [],
   "source": [
    "# give more data to improve the accuracy "
   ]
  },
  {
   "cell_type": "code",
   "execution_count": 11,
   "id": "72aa8698",
   "metadata": {},
   "outputs": [
    {
     "data": {
      "text/plain": [
       "KNeighborsClassifier()"
      ]
     },
     "execution_count": 11,
     "metadata": {},
     "output_type": "execute_result"
    }
   ],
   "source": [
    "clf.fit(iris.data[:-25], iris.target[:-25])  \n",
    "# Retrain the classifier with a different training set"
   ]
  },
  {
   "cell_type": "code",
   "execution_count": 12,
   "id": "cdea58a7",
   "metadata": {},
   "outputs": [
    {
     "name": "stdout",
     "output_type": "stream",
     "text": [
      "Accuracy: 0.84\n"
     ]
    }
   ],
   "source": [
    "pred25 = clf.predict(iris.data[-25:])  \n",
    "# Make predictions on a different set of test data\n",
    "\n",
    "accuracy = accuracy_score(iris.target[-25:], pred25) \n",
    "\n",
    "# Calculate the accuracy using true labels and predictions\n",
    "\n",
    "print(\"Accuracy:\", accuracy)  # Print the accuracy score"
   ]
  }
 ],
 "metadata": {
  "celltoolbar": "Raw Cell Format",
  "kernelspec": {
   "display_name": "Python 3 (ipykernel)",
   "language": "python",
   "name": "python3"
  },
  "language_info": {
   "codemirror_mode": {
    "name": "ipython",
    "version": 3
   },
   "file_extension": ".py",
   "mimetype": "text/x-python",
   "name": "python",
   "nbconvert_exporter": "python",
   "pygments_lexer": "ipython3",
   "version": "3.9.12"
  }
 },
 "nbformat": 4,
 "nbformat_minor": 5
}
